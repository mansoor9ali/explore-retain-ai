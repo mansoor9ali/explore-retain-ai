{
 "cells": [
  {
   "cell_type": "code",
   "execution_count": 1,
   "id": "24b10758-2af9-4c3d-8788-5091f2b6184c",
   "metadata": {},
   "outputs": [],
   "source": [
    "import pandas as pd\n",
    "import numpy as np"
   ]
  },
  {
   "cell_type": "code",
   "execution_count": 3,
   "id": "982ec513-ab7c-41b7-a450-23006e779f6e",
   "metadata": {},
   "outputs": [],
   "source": [
    "# Read the training and test data\n",
    "train_df = pd.read_csv('../data/employee_data_train.csv')\n",
    "test_df = pd.read_csv('../data/employee_data_test.csv')"
   ]
  },
  {
   "cell_type": "code",
   "execution_count": 5,
   "id": "ec55a587-e3ea-4295-809e-5f11be93b4d3",
   "metadata": {},
   "outputs": [],
   "source": [
    "# Combine train and test data for consistent preprocessing\n",
    "combined_df = pd.concat([train_df, test_df], sort=False)\n",
    "\n",
    "# Drop irrelevant columns\n",
    "drop_cols = ['Employee Name', 'Employee ID', 'Start Date', 'End Date']\n",
    "combined_df = combined_df.drop(drop_cols, axis=1)"
   ]
  },
  {
   "cell_type": "code",
   "execution_count": 7,
   "id": "c94393a8-c3a0-4687-b894-16e0d2707032",
   "metadata": {},
   "outputs": [],
   "source": [
    "def feature_engineering(df):\n",
    "    \"\"\"\n",
    "    Performs feature engineering on the provided DataFrame by calculating new metrics related to salary,\n",
    "    tenure, and promotion history. This prepares the data for input to an attrition prediction model.\n",
    "\n",
    "    Parameters:\n",
    "        df (DataFrame): The input DataFrame containing employee data.\n",
    "    \n",
    "    Returns:\n",
    "        DataFrame: The transformed DataFrame with additional features and cleaned columns.\n",
    "    \"\"\"\n",
    "    # Drop columns irrelevant to model training or prediction\n",
    "    df = df.drop(['Full Name', 'ID', 'Start Date', 'End Date'], axis=1, errors='ignore')\n",
    "    \n",
    "    # Calculate percentage change in salary from starting to current salary\n",
    "    df['Salary Percentage Change'] = (df['Current Salary'] - df['Starting Salary']) / df['Starting Salary']\n",
    " \n",
    "    # Salary Raise Per Year calculation (handles zero tenure)\n",
    "    # Avoid division by zero by adding a small value where Tenure is zero\n",
    "    epsilon = 1e-6\n",
    "    df['Adjusted Tenure'] = df['Tenure'].apply(lambda x: x if x > 0 else epsilon)\n",
    "    df['Salary Raise Per Year'] = (df['Current Salary'] - df['Starting Salary']) / df['Adjusted Tenure']\n",
    "\n",
    "    # Calculate promotion frequency over tenure period\n",
    "    df['Promotion Frequency'] = df['Promotion History'] / df['Adjusted Tenure']\n",
    "\n",
    "    # Drop the temporary Adjusted Tenure column\n",
    "    df = df.drop('Adjusted Tenure', axis=1)\n",
    "\n",
    "    return df"
   ]
  },
  {
   "cell_type": "code",
   "execution_count": 8,
   "id": "5f86e6fa-ddeb-409c-bfa9-bcf265b19f98",
   "metadata": {},
   "outputs": [],
   "source": [
    "# Apply feature engineering\n",
    "combined_df = feature_engineering(combined_df)\n",
    "\n",
    "# Update numerical features to include new features\n",
    "numerical_features = ['Age', 'Tenure', 'Starting Salary', 'Current Salary',\n",
    "                      'Years of Experience', 'Average Monthly Working Hours',\n",
    "                      'Months in Role', 'Promotion History', 'Last Performance Review Score',\n",
    "                      'Salary Percentage Change', 'Salary Raise Per Year', 'Promotion Frequency']\n",
    "\n",
    "# Identify categorical features\n",
    "categorical_features = ['Gender', 'Role', 'Department', 'Location', 'Contract']\n",
    "\n",
    "# Separate features and target variable\n",
    "X = combined_df.drop('Turnover', axis=1)\n",
    "y = combined_df['Turnover']\n",
    "\n",
    "# Split back into train and test sets\n",
    "X_train = X.iloc[:len(train_df)]\n",
    "X_test = X.iloc[len(train_df):]\n",
    "y_train = y.iloc[:len(train_df)]\n",
    "y_test = y.iloc[len(train_df):]"
   ]
  },
  {
   "cell_type": "code",
   "execution_count": null,
   "id": "b740ba56-44f6-42bf-b973-69dc3aad3abf",
   "metadata": {},
   "outputs": [],
   "source": []
  }
 ],
 "metadata": {
  "kernelspec": {
   "display_name": "Python 3 (ipykernel)",
   "language": "python",
   "name": "python3"
  },
  "language_info": {
   "codemirror_mode": {
    "name": "ipython",
    "version": 3
   },
   "file_extension": ".py",
   "mimetype": "text/x-python",
   "name": "python",
   "nbconvert_exporter": "python",
   "pygments_lexer": "ipython3",
   "version": "3.10.12"
  }
 },
 "nbformat": 4,
 "nbformat_minor": 5
}
