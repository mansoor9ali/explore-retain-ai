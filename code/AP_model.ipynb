{
 "cells": [
  {
   "cell_type": "code",
   "execution_count": 1,
   "id": "24b10758-2af9-4c3d-8788-5091f2b6184c",
   "metadata": {},
   "outputs": [],
   "source": [
    "import pandas as pd\n",
    "import numpy as np"
   ]
  },
  {
   "cell_type": "code",
   "execution_count": 2,
   "id": "982ec513-ab7c-41b7-a450-23006e779f6e",
   "metadata": {},
   "outputs": [],
   "source": [
    "# Read the training and test data\n",
    "train_df = pd.read_csv('../data/employee_data_train.csv')\n",
    "test_df = pd.read_csv('../data/employee_data_test.csv')"
   ]
  },
  {
   "cell_type": "code",
   "execution_count": 3,
   "id": "ec55a587-e3ea-4295-809e-5f11be93b4d3",
   "metadata": {},
   "outputs": [],
   "source": [
    "# Combine train and test data for consistent preprocessing\n",
    "combined_df = pd.concat([train_df, test_df], sort=False)\n",
    "\n",
    "# Drop irrelevant columns\n",
    "drop_cols = ['Employee Name', 'Employee ID', 'Start Date', 'End Date']\n",
    "combined_df = combined_df.drop(drop_cols, axis=1)"
   ]
  },
  {
   "cell_type": "code",
   "execution_count": 4,
   "id": "c94393a8-c3a0-4687-b894-16e0d2707032",
   "metadata": {},
   "outputs": [],
   "source": [
    "def feature_engineering(df):\n",
    "    \"\"\"\n",
    "    Performs feature engineering on the provided DataFrame by calculating new metrics related to salary,\n",
    "    tenure, and promotion history. This prepares the data for input to an attrition prediction model.\n",
    "\n",
    "    Parameters:\n",
    "        df (DataFrame): The input DataFrame containing employee data.\n",
    "    \n",
    "    Returns:\n",
    "        DataFrame: The transformed DataFrame with additional features and cleaned columns.\n",
    "    \"\"\"\n",
    "    # Drop columns irrelevant to model training or prediction\n",
    "    df = df.drop(['Full Name', 'ID', 'Start Date', 'End Date'], axis=1, errors='ignore')\n",
    "    \n",
    "    # Calculate percentage change in salary from starting to current salary\n",
    "    df['Salary Percentage Change'] = (df['Current Salary'] - df['Starting Salary']) / df['Starting Salary']\n",
    " \n",
    "    # Salary Raise Per Year calculation (handles zero tenure)\n",
    "    # Avoid division by zero by adding a small value where Tenure is zero\n",
    "    epsilon = 1e-6\n",
    "    df['Adjusted Tenure'] = df['Tenure'].apply(lambda x: x if x > 0 else epsilon)\n",
    "    df['Salary Raise Per Year'] = (df['Current Salary'] - df['Starting Salary']) / df['Adjusted Tenure']\n",
    "\n",
    "    # Calculate promotion frequency over tenure period\n",
    "    df['Promotion Frequency'] = df['Promotion History'] / df['Adjusted Tenure']\n",
    "\n",
    "    # Drop the temporary Adjusted Tenure column\n",
    "    df = df.drop('Adjusted Tenure', axis=1)\n",
    "\n",
    "    return df"
   ]
  },
  {
   "cell_type": "code",
   "execution_count": 5,
   "id": "5f86e6fa-ddeb-409c-bfa9-bcf265b19f98",
   "metadata": {},
   "outputs": [],
   "source": [
    "# Apply feature engineering\n",
    "combined_df = feature_engineering(combined_df)\n",
    "\n",
    "# Update numerical features to include new features\n",
    "numerical_features = ['Age', 'Tenure', 'Starting Salary', 'Current Salary',\n",
    "                      'Years of Experience', 'Average Monthly Working Hours',\n",
    "                      'Months in Role', 'Promotion History', 'Last Performance Review Score',\n",
    "                      'Salary Percentage Change', 'Salary Raise Per Year', 'Promotion Frequency']\n",
    "\n",
    "# Identify categorical features\n",
    "categorical_features = ['Gender', 'Role', 'Department', 'Location', 'Contract']\n",
    "\n",
    "# Separate features and target variable\n",
    "X = combined_df.drop('Turnover', axis=1)\n",
    "y = combined_df['Turnover']\n",
    "\n",
    "# Split back into train and test sets\n",
    "X_train = X.iloc[:len(train_df)]\n",
    "X_test = X.iloc[len(train_df):]\n",
    "y_train = y.iloc[:len(train_df)]\n",
    "y_test = y.iloc[len(train_df):]"
   ]
  },
  {
   "cell_type": "code",
   "execution_count": 6,
   "id": "b740ba56-44f6-42bf-b973-69dc3aad3abf",
   "metadata": {},
   "outputs": [],
   "source": [
    "# For data preprocessing\n",
    "from sklearn.preprocessing import OneHotEncoder, StandardScaler\n",
    "from sklearn.preprocessing import FunctionTransformer\n",
    "from sklearn.compose import ColumnTransformer\n",
    "from sklearn.pipeline import Pipeline\n",
    "from sklearn.impute import SimpleImputer"
   ]
  },
  {
   "cell_type": "code",
   "execution_count": 7,
   "id": "c2550d9a-a22a-45ad-b2c2-f51a2d0d62aa",
   "metadata": {},
   "outputs": [],
   "source": [
    "# For model building\n",
    "from sklearn.ensemble import RandomForestClassifier\n",
    "from sklearn.model_selection import GridSearchCV\n",
    "from sklearn.svm import SVC\n",
    "\n",
    "# For evaluation\n",
    "from sklearn.metrics import accuracy_score, classification_report, confusion_matrix"
   ]
  },
  {
   "cell_type": "code",
   "execution_count": 8,
   "id": "5bae37ed-eea5-4987-9f80-61e7d1c1cc53",
   "metadata": {},
   "outputs": [],
   "source": [
    "# Define the preprocessing steps with imputation\n",
    "numeric_transformer = Pipeline(steps=[\n",
    "    ('imputer', SimpleImputer(strategy='median')),\n",
    "    ('scaler', StandardScaler())\n",
    "])\n",
    "\n",
    "categorical_transformer = Pipeline(steps=[\n",
    "    ('imputer', SimpleImputer(strategy='most_frequent')),\n",
    "    ('onehot', OneHotEncoder(handle_unknown='ignore'))\n",
    "])\n",
    "\n",
    "# Define the feature engineering transformer\n",
    "feature_engineering_transformer = FunctionTransformer(feature_engineering)\n",
    "\n",
    "preprocessor = ColumnTransformer(\n",
    "    transformers=[\n",
    "        ('num', numeric_transformer, numerical_features),\n",
    "        ('cat', categorical_transformer, categorical_features)\n",
    "    ])\n",
    "\n",
    "# Create the pipeline with preprocessing and model\n",
    "model = RandomForestClassifier(random_state=42)\n",
    "\n",
    "pipeline = Pipeline(steps=[\n",
    "    ('feature_engineering', feature_engineering_transformer),  # Feature engineering step\n",
    "    ('preprocessor', preprocessor),                            # Preprocessing step\n",
    "    ('classifier', model)                                      # Model step\n",
    "])"
   ]
  },
  {
   "cell_type": "code",
   "execution_count": 9,
   "id": "0b85f90a-c572-4e89-9c0e-a5ed602efcf0",
   "metadata": {},
   "outputs": [],
   "source": [
    "# Hyperparameter tuning using GridSearchCV\n",
    "param_grid = {\n",
    "    'classifier__n_estimators': [100, 200],\n",
    "    'classifier__max_depth': [None, 10, 20],\n",
    "    'classifier__min_samples_split': [2, 5],\n",
    "    'classifier__min_samples_leaf': [1, 2]\n",
    "}\n",
    "\n",
    "grid_search = GridSearchCV(estimator=pipeline, param_grid=param_grid, cv=5, n_jobs=-1, scoring='accuracy')\n",
    "grid_search.fit(X_train, y_train)\n",
    "\n",
    "# Best model from GridSearchCV\n",
    "best_model = grid_search.best_estimator_"
   ]
  },
  {
   "cell_type": "code",
   "execution_count": 11,
   "id": "a8b6eb4b-0593-4fbd-8bce-01eeb53224f8",
   "metadata": {},
   "outputs": [],
   "source": [
    "# For model saving\n",
    "from joblib import dump, load"
   ]
  },
  {
   "cell_type": "code",
   "execution_count": 12,
   "id": "e92e06ae-2279-4fee-9c19-a8aa6e3b5bea",
   "metadata": {},
   "outputs": [
    {
     "data": {
      "text/plain": [
       "['../models/attrition_model_pipeline.joblib']"
      ]
     },
     "execution_count": 12,
     "metadata": {},
     "output_type": "execute_result"
    }
   ],
   "source": [
    "# Save the best model pipeline to a file\n",
    "dump(best_model, '../models/attrition_model_pipeline.joblib')"
   ]
  },
  {
   "cell_type": "code",
   "execution_count": null,
   "id": "02a52a15-3afc-46d0-93e4-4ca59fa23fd0",
   "metadata": {},
   "outputs": [],
   "source": []
  }
 ],
 "metadata": {
  "kernelspec": {
   "display_name": "Python 3 (ipykernel)",
   "language": "python",
   "name": "python3"
  },
  "language_info": {
   "codemirror_mode": {
    "name": "ipython",
    "version": 3
   },
   "file_extension": ".py",
   "mimetype": "text/x-python",
   "name": "python",
   "nbconvert_exporter": "python",
   "pygments_lexer": "ipython3",
   "version": "3.10.12"
  }
 },
 "nbformat": 4,
 "nbformat_minor": 5
}
